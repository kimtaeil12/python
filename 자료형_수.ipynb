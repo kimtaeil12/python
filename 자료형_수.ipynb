{
 "cells": [
  {
   "cell_type": "code",
   "execution_count": 3,
   "id": "7b0d001c-3d4b-45af-ac87-e6cee9182358",
   "metadata": {},
   "outputs": [
    {
     "data": {
      "text/plain": [
       "8.2"
      ]
     },
     "execution_count": 3,
     "metadata": {},
     "output_type": "execute_result"
    }
   ],
   "source": [
    "a=3 #a는 변수 \n",
    "b=5.2\n",
    "a+b"
   ]
  },
  {
   "cell_type": "code",
   "execution_count": 4,
   "id": "9a97a507-86a7-4711-83ef-85efa1644a54",
   "metadata": {},
   "outputs": [
    {
     "data": {
      "text/plain": [
       "float"
      ]
     },
     "execution_count": 4,
     "metadata": {},
     "output_type": "execute_result"
    }
   ],
   "source": [
    "type(a) \n",
    "type(b)"
   ]
  },
  {
   "cell_type": "code",
   "execution_count": 5,
   "id": "b89ba588-1f7d-4ae0-b023-60c55c3382e7",
   "metadata": {},
   "outputs": [],
   "source": [
    "#타입\n",
    "#변수 앞에는 숫자 불가능 대소문자 구별 가능\n",
    "#변수의 이름은 가독성이 높게 변수를 명명한다"
   ]
  },
  {
   "cell_type": "code",
   "execution_count": null,
   "id": "61c8be26-b344-4a75-afff-855169f7ca48",
   "metadata": {},
   "outputs": [],
   "source": [
    "#가격 할인비율 정의\n",
    "price = 1000\n",
    "promotion = 0.2\n",
    "#최종가격 계산\n",
    "marketPrice = price - (price * promotion)\n",
    "marketPrice\n",
    "#변수명 가독성있게 설정 13~10글자로 설정"
   ]
  },
  {
   "cell_type": "code",
   "execution_count": 7,
   "id": "c6f8128a-cfb4-4ea2-94a7-41e9326a6da9",
   "metadata": {},
   "outputs": [],
   "source": [
    "price = 2000\n",
    "promotion = 0.2"
   ]
  },
  {
   "cell_type": "code",
   "execution_count": 8,
   "id": "3c3956ff-7259-4aaa-a664-215aeadb1aee",
   "metadata": {},
   "outputs": [
    {
     "data": {
      "text/plain": [
       "2000.2"
      ]
     },
     "execution_count": 8,
     "metadata": {},
     "output_type": "execute_result"
    }
   ],
   "source": [
    "plusans = price + promotion\n",
    "plusans"
   ]
  },
  {
   "cell_type": "raw",
   "id": "08eef7b8-3f76-46fc-9847-17d8b062a634",
   "metadata": {},
   "source": [
    "minusans = price - promotion\n",
    "minusans"
   ]
  },
  {
   "cell_type": "code",
   "execution_count": 9,
   "id": "c1dcd4d9-c811-45f1-a6f1-bc18833a886c",
   "metadata": {},
   "outputs": [
    {
     "data": {
      "text/plain": [
       "400.0"
      ]
     },
     "execution_count": 9,
     "metadata": {},
     "output_type": "execute_result"
    }
   ],
   "source": [
    "divans = price * promotion\n",
    "divans"
   ]
  },
  {
   "cell_type": "code",
   "execution_count": null,
   "id": "220139b6-0987-467d-8b48-16ab721989e2",
   "metadata": {},
   "outputs": [],
   "source": [
    "weekStd = 3\n",
    "\n",
    "actualWeek = 20\n",
    "\n",
    "actualWeek % weekStd"
   ]
  },
  {
   "cell_type": "code",
   "execution_count": 64,
   "id": "45a42bca-c991-4241-a6ed-305ce65a03b2",
   "metadata": {},
   "outputs": [],
   "source": [
    "hour = 12"
   ]
  },
  {
   "cell_type": "code",
   "execution_count": 65,
   "id": "f93c000d-7a29-4c1d-8c3a-fcb1e3516051",
   "metadata": {},
   "outputs": [],
   "source": [
    "minute = 42"
   ]
  },
  {
   "cell_type": "code",
   "execution_count": 66,
   "id": "388b3f93-a231-4cb5-840d-54bc44ac84ae",
   "metadata": {},
   "outputs": [],
   "source": [
    "TimeAns = hour + minute"
   ]
  },
  {
   "cell_type": "code",
   "execution_count": 67,
   "id": "77a8e2e2-a292-4d3d-bfd8-faf43284e0f0",
   "metadata": {},
   "outputs": [
    {
     "data": {
      "text/plain": [
       "54"
      ]
     },
     "execution_count": 67,
     "metadata": {},
     "output_type": "execute_result"
    }
   ],
   "source": [
    "TimeAns"
   ]
  },
  {
   "cell_type": "code",
   "execution_count": null,
   "id": "165f9d78-a2b6-4828-a63a-2dfe192ae493",
   "metadata": {},
   "outputs": [],
   "source": []
  }
 ],
 "metadata": {
  "kernelspec": {
   "display_name": "Python 3 (ipykernel)",
   "language": "python",
   "name": "python3"
  },
  "language_info": {
   "codemirror_mode": {
    "name": "ipython",
    "version": 3
   },
   "file_extension": ".py",
   "mimetype": "text/x-python",
   "name": "python",
   "nbconvert_exporter": "python",
   "pygments_lexer": "ipython3",
   "version": "3.10.11"
  }
 },
 "nbformat": 4,
 "nbformat_minor": 5
}
